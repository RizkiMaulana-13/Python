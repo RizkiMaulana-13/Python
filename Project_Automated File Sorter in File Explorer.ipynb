{
 "cells": [
  {
   "cell_type": "code",
   "execution_count": 39,
   "id": "33a967df-6724-41ec-a67e-08a7accff85f",
   "metadata": {},
   "outputs": [],
   "source": [
    "import os, shutil"
   ]
  },
  {
   "cell_type": "code",
   "execution_count": 40,
   "id": "dd9907cb-74d3-4107-bc72-90908b284b76",
   "metadata": {},
   "outputs": [],
   "source": [
    "path = r\"C:/Users/RM/Downloads/Data Analyst/Phython/Project/Automated File Sorter in File Explorer/\""
   ]
  },
  {
   "cell_type": "code",
   "execution_count": 41,
   "id": "6ee831fc-6996-40c9-9dfb-4d3d1333a3df",
   "metadata": {},
   "outputs": [
    {
     "data": {
      "text/plain": [
       "['aw live.txt',\n",
       " 'CV Rizki Maulana.docx',\n",
       " 'CV Rizki Maulana.pdf',\n",
       " 'IMG_20190901_200226_835.jpg',\n",
       " 'layoffs.csv',\n",
       " 'Power BI - Final Project.xlsx',\n",
       " 'Screenshot_20190415-013534.png',\n",
       " 'Screenshot_20191003-195204.png']"
      ]
     },
     "execution_count": 41,
     "metadata": {},
     "output_type": "execute_result"
    }
   ],
   "source": [
    "os.listdir(path)"
   ]
  },
  {
   "cell_type": "code",
   "execution_count": 43,
   "id": "84a9b60e-63c2-4080-9821-4776a974959b",
   "metadata": {},
   "outputs": [],
   "source": [
    "folder_names = ['document files','excel files','picture files','text files']\n",
    "\n",
    "for fnames in range(0,4):\n",
    "    if not os.path.exists(path + folder_names[fnames]):\n",
    "        os.makedirs(path + folder_names[fnames])"
   ]
  },
  {
   "cell_type": "code",
   "execution_count": 44,
   "id": "75ab59e5-9fda-4e9e-9d3c-4b531e3b1fc4",
   "metadata": {},
   "outputs": [],
   "source": [
    "file_names = os.listdir(path)"
   ]
  },
  {
   "cell_type": "code",
   "execution_count": 45,
   "id": "90377a6e-a426-467c-a61a-7b5975443385",
   "metadata": {},
   "outputs": [
    {
     "name": "stdout",
     "output_type": "stream",
     "text": [
      "the file already in the folder\n"
     ]
    }
   ],
   "source": [
    "for file in file_names:\n",
    "    if \".csv\" in file and not os.path.exists(path + \"excel files/\" + file):\n",
    "        shutil.move(path + file, path + \"excel files/\" + file)\n",
    "    elif \".docx\" in file and not os.path.exists(path + \"document files/\" + file):\n",
    "        shutil.move(path + file, path + \"document files/\" + file)\n",
    "    elif \".xlsx\" in file and not os.path.exists(path + \"excel files/\" + file):\n",
    "        shutil.move(path + file, path + \"excel files/\" + file)\n",
    "    elif \".jpg\" in file and not os.path.exists(path + \"picture files/\" + file):\n",
    "        shutil.move(path + file, path + \"picture files/\" + file)\n",
    "    elif \".pdf\" in file and not os.path.exists(path + \"document files/\" + file):\n",
    "        shutil.move(path + file, path + \"document files/\" + file)\n",
    "    elif \".png\" in file and not os.path.exists(path + \"picture files/\" + file):\n",
    "        shutil.move(path + file, path + \"picture files/\" + file)\n",
    "    elif \".txt\" in file and not os.path.exists(path + \"text files/\" + file):\n",
    "        shutil.move(path + file, path + \"text files/\" + file)\n",
    "else:\n",
    "    print(\"the file already in the folder\")"
   ]
  },
  {
   "cell_type": "code",
   "execution_count": null,
   "id": "a92c0820-7a1d-4825-b64d-f5c63755dafa",
   "metadata": {},
   "outputs": [],
   "source": []
  }
 ],
 "metadata": {
  "kernelspec": {
   "display_name": "Python 3 (ipykernel)",
   "language": "python",
   "name": "python3"
  },
  "language_info": {
   "codemirror_mode": {
    "name": "ipython",
    "version": 3
   },
   "file_extension": ".py",
   "mimetype": "text/x-python",
   "name": "python",
   "nbconvert_exporter": "python",
   "pygments_lexer": "ipython3",
   "version": "3.12.7"
  }
 },
 "nbformat": 4,
 "nbformat_minor": 5
}
